{
 "cells": [
  {
   "cell_type": "code",
   "execution_count": 1,
   "metadata": {
    "collapsed": false
   },
   "outputs": [
    {
     "name": "stderr",
     "output_type": "stream",
     "text": [
      "/home/yaser/miniconda3/envs/dantemp/lib/python3.6/importlib/_bootstrap.py:219: RuntimeWarning: compiletime version 3.5 of module 'tensorflow.python.framework.fast_tensor_util' does not match runtime version 3.6\n",
      "  return f(*args, **kwds)\n"
     ]
    }
   ],
   "source": [
    "from sklearn.preprocessing import StandardScaler\n",
    "from sklearn import datasets, model_selection\n",
    "from matplotlib import pyplot as plt\n",
    "import tensorflow as tf\n",
    "from tensorflow.python.ops import resource_variable_ops as rr\n",
    "import numpy as np; np.seed=5\n",
    "from matplotlib import pyplot as plt\n",
    "import seaborn as sns; sns.set(color_codes=True)\n",
    "from tqdm import tqdm\n",
    "import pandas as pd"
   ]
  },
  {
   "cell_type": "code",
   "execution_count": null,
   "metadata": {
    "collapsed": true
   },
   "outputs": [],
   "source": [
    "#data = datasets.load_breast_cancer()\n",
    "data = datasets.load_boston()\n",
    "\n",
    "indata = data.data\n",
    "outdata = data.target.reshape(-1,1)\n",
    "\n",
    "in_scaler = StandardScaler()\n",
    "indata = in_scaler.fit_transform(indata)\n",
    "\n",
    "inputs_train, inputs_test, outputs_train, outputs_test = model_selection.train_test_split(indata, outdata, test_size=0.1)"
   ]
  },
  {
   "cell_type": "code",
   "execution_count": null,
   "metadata": {
    "collapsed": false
   },
   "outputs": [],
   "source": [
    "np.save('dde/inputs_train', inputs_train)\n",
    "np.save('dde/inputs_test', inputs_test)\n",
    "np.save('dde/outputs_train', outputs_train)\n",
    "np.save('dde/outputs_test', outputs_test)"
   ]
  },
  {
   "cell_type": "code",
   "execution_count": 2,
   "metadata": {
    "collapsed": false
   },
   "outputs": [],
   "source": [
    "inputs_train = np.load('dde/inputs_train.npy')\n",
    "inputs_test = np.load('dde/inputs_test.npy')\n",
    "outputs_train = np.load('dde/outputs_train.npy')\n",
    "outputs_test = np.load('dde/outputs_test.npy')\n"
   ]
  },
  {
   "cell_type": "code",
   "execution_count": null,
   "metadata": {
    "collapsed": false
   },
   "outputs": [],
   "source": []
  },
  {
   "cell_type": "code",
   "execution_count": 255,
   "metadata": {
    "collapsed": false
   },
   "outputs": [],
   "source": [
    "# the optimizer\n",
    "\n",
    "\n",
    "class GradientProcessor(object):\n",
    "    \"\"\"\n",
    "    \n",
    "    \"\"\"\n",
    "    \n",
    "    def __init__(self,shape, gamma, window):\n",
    "        self.shape = shape\n",
    "        self.epsilon = 1e-5\n",
    "        self.gamma = gamma\n",
    "        self.window = window\n",
    "        \n",
    "        self.grad_hist1 = rr.ResourceVariable(tf.zeros(shape=shape,dtype=tf.float32))\n",
    "        self.para_hist1 = rr.ResourceVariable(tf.zeros(shape=shape,dtype=tf.float32))\n",
    "        self.grad_hist2 = rr.ResourceVariable(tf.zeros(shape=shape,dtype=tf.float32))\n",
    "        self.para_hist2 = rr.ResourceVariable(tf.zeros(shape=shape,dtype=tf.float32))\n",
    "        self.grad_hist3 = rr.ResourceVariable(tf.zeros(shape=shape,dtype=tf.float32))\n",
    "        self.para_hist3 = rr.ResourceVariable(tf.zeros(shape=shape,dtype=tf.float32))\n",
    "        self.grad_hist4 = rr.ResourceVariable(tf.zeros(shape=shape,dtype=tf.float32))\n",
    "        self.para_hist4 = rr.ResourceVariable(tf.zeros(shape=shape,dtype=tf.float32))\n",
    "        \n",
    "        self.mock_zeros = rr.ResourceVariable(tf.zeros(shape=shape,dtype=tf.float32))\n",
    "        \n",
    "    def _enqueue(self, new_grad, new_para):\n",
    "        \n",
    "        old_grad_hist1 = self.grad_hist1.read_value()\n",
    "        old_para_hist1 = self.para_hist1.read_value()\n",
    "        old_grad_hist2 = self.grad_hist2.read_value()\n",
    "        old_para_hist2 = self.para_hist2.read_value()\n",
    "        old_grad_hist3 = self.grad_hist2.read_value()\n",
    "        old_para_hist3 = self.para_hist2.read_value()\n",
    "        \n",
    "        with tf.control_dependencies([old_grad_hist1, old_grad_hist2, old_para_hist1, old_para_hist2, old_para_hist3, old_para_hist3]):\n",
    "            assign_gh4 = tf.assign(self.grad_hist4, old_grad_hist3)\n",
    "            assign_ph4 = tf.assign(self.para_hist4, old_para_hist3)\n",
    "            assign_gh3 = tf.assign(self.grad_hist3, old_grad_hist2)\n",
    "            assign_ph3 = tf.assign(self.para_hist3, old_para_hist2)\n",
    "            assign_gh2 = tf.assign(self.grad_hist2, old_grad_hist1)\n",
    "            assign_ph2 = tf.assign(self.para_hist2, old_para_hist1)\n",
    "            assign_gh1 = tf.assign(self.grad_hist1, new_grad)\n",
    "            assign_ph1 = tf.assign(self.para_hist1, new_para)\n",
    "            \n",
    "        return assign_gh2, assign_ph2, assign_gh1, assign_ph1\n",
    "        \n",
    "    def _calc_dist(self, final, initial):\n",
    "        return final - initial\n",
    "    \n",
    "    def _calc_norm(self, vector):\n",
    "        return tf.linalg.norm(vector, ord='euclidean')\n",
    "        \n",
    "    def calc_deltagrad(self, fin_grad, ini_grad):\n",
    "        return self._calc_dist(fin_grad, ini_grad)\n",
    "    \n",
    "    def calc_stepsize(self, fin_para, ini_para):\n",
    "        deltapara = self._calc_dist(fin_para, ini_para)\n",
    "        delta_s = self._calc_norm(deltapara) + self.epsilon # must add epsilon for numerical stability\n",
    "        return deltapara, delta_s\n",
    "    \n",
    "    def calc_dirdiv(self, deltagrad, stepsize):\n",
    "        return tf.divide(deltagrad,stepsize)\n",
    "        \n",
    "    def calc_proj(self, cur_grad, deltapara, stepsize):\n",
    "        return tf.tensordot(tf.reshape(cur_grad,[-1]), tf.reshape(deltapara,[-1]),axes=1) / stepsize\n",
    "    \n",
    "    def calc_x(self, proj, dirdiv):\n",
    "        return proj * dirdiv\n",
    "    \n",
    "    def calc_gamma(self, cur_para, fin_para, ini_para):\n",
    "        \"\"\"\n",
    "        This is designed so that both distances have to be small in order for \n",
    "        the second order effect to be significant. If the distance between final and initial\n",
    "        is large then the second order approxmiation will be very bad. If the distance between\n",
    "        current and initial is large than even if the curvature approxmiation at initial is accurate,\n",
    "        it may not apply at the current position (i.e. 3rd and higher order effects).\n",
    "        \n",
    "        NOTE: This did not work due to numerical issues. The distances are so small that this\n",
    "        number blows up the update.\n",
    "        \n",
    "        gamma = 1/|d1| * 1/|d2|\n",
    "            - If cur_para is fin_para then gamma = 1/(d^2).\n",
    "            - I'd ideally avoid using the Euclidean distance so that this is more scale-invariant;\n",
    "            the L2 norm would be dominated by relatively small changes in large value params\n",
    "            (though I'm not sure if this succeeds)\n",
    "        \"\"\"\n",
    "        dist_eval = self._calc_dist(fin_para, ini_para)\n",
    "        dist_cur = self._calc_dist(cur_para, ini_para)\n",
    "        return self._calc_norm(tf.multiply((1 / (1 + tf.abs(dist_eval))),(1 / (1 + tf.abs(dist_cur))))) + self.epsilon\n",
    "    \n",
    "    def calc_combined_x(self, xs):\n",
    "        return tf.reduce_sum(tf.stack(xs))\n",
    "    \n",
    "    def calc_update(self, cur_grad, x, gamma):\n",
    "        return cur_grad + tf.multiply(x, gamma)\n",
    "    \n",
    "    def calc_dist(self, cur_para, ini_para):\n",
    "        return self._calc_norm(self._calc_dist(cur_para, ini_para))\n",
    "    \n",
    "    def subprocess(self, cur_grad, cur_para, fin_grad, fin_para, ini_grad, ini_para):\n",
    "        deltagrad = self.calc_deltagrad(fin_grad, ini_grad)\n",
    "        deltapara, delta_s = self.calc_stepsize(fin_para, ini_para)\n",
    "        dirdiv = self.calc_dirdiv(deltagrad, delta_s)\n",
    "        proj = self.calc_proj(cur_grad, deltapara, delta_s)\n",
    "        x = self.calc_x(proj, dirdiv)\n",
    "        dist = self.calc_dist(cur_para, ini_para)\n",
    "        return x, dist + delta_s\n",
    "    \n",
    "    def process(self, grad, para):\n",
    "            \n",
    "        queued = self._enqueue(grad, para)\n",
    "        with tf.control_dependencies(queued):\n",
    "            x_12, d_12 = self.subprocess(self.grad_hist1.read_value(), self.para_hist1.read_value(), self.grad_hist1.read_value(), self.para_hist1.read_value(), self.grad_hist2.read_value(), self.para_hist2.read_value())\n",
    "            x_13, d_13 = self.subprocess(self.grad_hist1.read_value(), self.para_hist1.read_value(), self.grad_hist1.read_value(), self.para_hist1.read_value(), self.grad_hist3.read_value(), self.para_hist3.read_value())\n",
    "            x_23, d_23 = self.subprocess(self.grad_hist1.read_value(), self.para_hist1.read_value(), self.grad_hist2.read_value(), self.para_hist2.read_value(), self.grad_hist3.read_value(), self.para_hist3.read_value())\n",
    "            x_14, d_14 = self.subprocess(self.grad_hist1.read_value(), self.para_hist1.read_value(), self.grad_hist1.read_value(), self.para_hist1.read_value(), self.grad_hist4.read_value(), self.para_hist4.read_value())\n",
    "            x_34, d_34 = self.subprocess(self.grad_hist1.read_value(), self.para_hist1.read_value(), self.grad_hist3.read_value(), self.para_hist3.read_value(), self.grad_hist4.read_value(), self.para_hist4.read_value())\n",
    "            x_24, d_24 = self.subprocess(self.grad_hist1.read_value(), self.para_hist1.read_value(), self.grad_hist2.read_value(), self.para_hist2.read_value(), self.grad_hist4.read_value(), self.para_hist4.read_value())\n",
    "      \n",
    "        xs = [x_c1]\n",
    "        if self.window > 1:\n",
    "            xs.append(x_c2, x_12)\n",
    "        if self.window > 2:\n",
    "            xs.append(x_c3, x_23, x_13)\n",
    "        with tf.control_dependencies(xs):\n",
    "            combined_x = self.calc_combined_x(xs)\n",
    "        \n",
    "        processed_grad = self.calc_update(grad, combined_x, self.gamma)\n",
    "        return processed_grad\n",
    "\n",
    "        \n",
    "def process_gradients(processors, grads_and_vars):\n",
    "    return [(processor.process(gv[0],gv[1]), gv[1]) for processor, gv in zip(processors,grads_and_vars)]  "
   ]
  },
  {
   "cell_type": "code",
   "execution_count": 256,
   "metadata": {
    "collapsed": true
   },
   "outputs": [],
   "source": [
    "n_input = 13\n",
    "n_output = 1\n",
    "n_hidden = 100\n",
    "n_layers = 20\n",
    "\n",
    "ini_mean = 0\n",
    "ini_stddev = 1/(2*n_hidden)\n",
    "\n",
    "window = 1\n"
   ]
  },
  {
   "cell_type": "code",
   "execution_count": 241,
   "metadata": {
    "collapsed": false
   },
   "outputs": [
    {
     "name": "stdout",
     "output_type": "stream",
     "text": [
      "network built\n"
     ]
    }
   ],
   "source": [
    "# the network\n",
    "\n",
    "\n",
    "hidden_dict = {}\n",
    "\n",
    "num_params = (n_input*n_hidden) + n_hidden + (n_hidden*n_hidden*(n_layers)) + (n_output*n_hidden) + n_output\n",
    "\n",
    "\n",
    "activation = tf.nn.relu\n",
    "\n",
    "def weight_matrix(n_in,n_out):\n",
    "    return tf.Variable(\n",
    "        tf.truncated_normal(shape=(n_in,n_out), mean=ini_mean, stddev=ini_stddev)\n",
    "        ,dtype=tf.float32)\n",
    "\n",
    "def bias_matrix(n_to):\n",
    "    return tf.Variable(tf.zeros(shape=(1,n_to),dtype=tf.float32))\n",
    "           \n",
    "    \n",
    "\n",
    "input_layer = tf.placeholder(shape=(None,n_input),dtype=tf.float32)\n",
    "output_truth = tf.placeholder(shape=(None,n_output),dtype=tf.float32)\n",
    "gamma = tf.placeholder(shape=(),dtype=tf.float32)\n",
    "\n",
    "\n",
    "for n in range(1,n_layers+1):\n",
    "    hidden_dict[n] = {}\n",
    "    if n == 1:\n",
    "        hidden_dict[n]['weights'] = weight_matrix(n_input,n_hidden)\n",
    "        hidden_dict[n]['bias'] = bias_matrix(n_hidden)\n",
    "        hidden_dict[n]['layer'] = activation(tf.matmul(input_layer,hidden_dict[n]['weights']) + hidden_dict[n]['bias'])\n",
    "    else:\n",
    "        hidden_dict[n]['weights'] = weight_matrix(n_hidden,n_hidden)\n",
    "        hidden_dict[n]['bias'] = bias_matrix(n_hidden)\n",
    "        hidden_dict[n]['layer'] = activation(tf.matmul(hidden_dict[n-1]['layer'],hidden_dict[n]['weights']) + hidden_dict[n]['bias'])\n",
    "        \n",
    "\n",
    "output_weights = weight_matrix(n_hidden,n_output)\n",
    "output_bias = bias_matrix(n_output)\n",
    "\n",
    "output_pre = tf.matmul(hidden_dict[n_layers]['layer'],output_weights) + output_bias\n",
    "#output_pred = tf.nn.sigmoid(output_pre)\n",
    "output_pred = output_pre\n",
    "                 \n",
    "loss = tf.reduce_sum(tf.reduce_mean((1/2)*(output_truth - output_pred)**2))\n",
    "#loss = -tf.reduce_sum(tf.reduce_mean(output_truth*tf.log(output_pred)+(1-output_truth)*tf.log(1-output_pred)))\n",
    "    \n",
    "lr = tf.placeholder(shape=(),dtype=tf.float32)\n",
    "#opt = tf.train.GradientDescentOptimizer(learning_rate=lr)\n",
    "#opt = tf.train.AdamOptimizer(learning_rate=lr,beta1=0.9,beta2=0.999,epsilon=1e-08,use_locking=False)\n",
    "opt = tf.train.MomentumOptimizer(learning_rate=lr,momentum=0.9)\n",
    "\n",
    "all_variables = [hidden_dict[n]['weights'] for n in range(1,n_layers+1)] + [output_weights] + [hidden_dict[n]['bias'] for n in range(1,n_layers+1)] + [output_bias]\n",
    "processors = [GradientProcessor(shape = variable.shape, gamma = gamma, window = window) for variable in all_variables]\n",
    "\n",
    "control_opt = opt.minimize(loss, var_list = all_variables)\n",
    "\n",
    "correct_prediction = tf.equal(output_truth, tf.round(output_pred))\n",
    "#acc = tf.reduce_mean(tf.cast(correct_prediction, tf.float32))\n",
    "\n",
    "grads_and_vars = opt.compute_gradients(loss, all_variables)\n",
    "\n",
    "processed_gradients = process_gradients(processors, grads_and_vars)\n",
    "with tf.control_dependencies([g[0] for g in processed_gradients]):\n",
    "    custom_opt = opt.apply_gradients(processed_gradients)\n",
    "\n",
    "print('network built')\n"
   ]
  },
  {
   "cell_type": "code",
   "execution_count": 242,
   "metadata": {
    "collapsed": false
   },
   "outputs": [
    {
     "data": {
      "text/plain": [
       "{'bias': <tf.Variable 'Variable_4075:0' shape=(1, 100) dtype=float32_ref>,\n",
       " 'layer': <tf.Tensor 'Relu_260:0' shape=(?, 100) dtype=float32>,\n",
       " 'weights': <tf.Variable 'Variable_4074:0' shape=(13, 100) dtype=float32_ref>}"
      ]
     },
     "execution_count": 242,
     "metadata": {},
     "output_type": "execute_result"
    }
   ],
   "source": [
    "hidden_dict[1]"
   ]
  },
  {
   "cell_type": "code",
   "execution_count": null,
   "metadata": {
    "collapsed": true
   },
   "outputs": [],
   "source": []
  },
  {
   "cell_type": "code",
   "execution_count": 247,
   "metadata": {
    "collapsed": true
   },
   "outputs": [],
   "source": [
    "def run_training(inputs, outputs, n_epochs, learning_rate, _gamma, tqdm_on=False, batch_size=64, control=True):\n",
    "    \n",
    "    inputs_train, inputs_test = inputs\n",
    "    outputs_train, outputs_test = outputs\n",
    "    \n",
    "    if tqdm_on is True: pbar = tqdm(range(n_epochs))\n",
    "    else: pbar = range(n_epochs)\n",
    "    train_losses = []\n",
    "    test_losses = []\n",
    "    grads = []\n",
    "    proc_grads = []\n",
    "    with tf.Session() as sess:\n",
    "        init = tf.global_variables_initializer()\n",
    "        sess.run(init)\n",
    "\n",
    "        if control is True:\n",
    "            optimizer = control_opt\n",
    "        else:\n",
    "            optimizer = custom_opt\n",
    "        \n",
    "        for _ in pbar:\n",
    "            \n",
    "            batch_idx = np.random.choice(np.arange(len(inputs_train)), size = batch_size)\n",
    "            input_batch = inputs_train[batch_idx]\n",
    "            output_batch = outputs_train[batch_idx]\n",
    "            \n",
    "            \n",
    "            \n",
    "            _, _proc_grads, _loss, pred, _grads  = sess.run([optimizer, processed_gradients, loss, output_pred, grads_and_vars], \n",
    "                                                  feed_dict={input_layer: input_batch\n",
    "                                                             , output_truth: output_batch\n",
    "                                                             , lr: learning_rate\n",
    "                                                             , gamma: _gamma\n",
    "                                                            })\n",
    "            _test_loss = sess.run(loss, feed_dict={input_layer:inputs_test, output_truth:outputs_test})\n",
    "            \n",
    "            train_losses.append(_loss)\n",
    "            test_losses.append(_test_loss)\n",
    "            grads.append(_grads)\n",
    "            proc_grads.append(_proc_grads)\n",
    "            \n",
    "            if tqdm_on is True:\n",
    "                pbar.set_description('train: {:2f}, test: {:2f}'.format(_loss,_test_loss))\n",
    "\n",
    "    return train_losses, test_losses, grads, proc_grads"
   ]
  },
  {
   "cell_type": "code",
   "execution_count": 248,
   "metadata": {
    "collapsed": false
   },
   "outputs": [],
   "source": [
    "import time\n",
    "\n",
    "def run_exps(num_exps, name, tqdm_on=False, epochs=15, lrate=0.1, _gamma=0.5, batch_size=64, control=True):\n",
    "    \n",
    "    df_test = None\n",
    "    times = []\n",
    "\n",
    "    for exp in range(1,num_exps+1):\n",
    "        print('starting exp {}'.format(exp))\n",
    "        st = time.time()\n",
    "        losses_train, losses_test, grads, proc_grads = run_training((inputs_train, inputs_test), (outputs_train, outputs_test), n_epochs=epochs, learning_rate = lrate, _gamma = _gamma, tqdm_on=tqdm_on, batch_size=batch_size, control=control)\n",
    "        elapsed = int(time.time()-st)\n",
    "        times.append(elapsed)\n",
    "        \n",
    "        losses = np.concatenate([np.array(losses_train).reshape(-1,1), np.array(losses_test).reshape(-1,1)],axis=1)\n",
    "        df = pd.DataFrame(losses)\n",
    "        \n",
    "        df.columns = ['loss_train','loss_test']\n",
    "        df['experiment'] = exp\n",
    "        df['depth'] = n_layers\n",
    "        df['width'] = n_hidden\n",
    "        df['batch_size'] = batch_size\n",
    "        df['lr'] = lrate\n",
    "        df['gamma'] = _gamma\n",
    "        df['name'] = name\n",
    "        df['window'] = window\n",
    "\n",
    "        if df_test is None:\n",
    "            df_test = df\n",
    "        else:\n",
    "            df_test = pd.concat([df_test,df],axis=0)\n",
    "            \n",
    "\n",
    "    meantime = int(np.array(times).mean())\n",
    "    df_test.reset_index().rename(columns={'index':'epoch'})\n",
    "    df_test.to_csv('dde/l{}_h{}_bs{}_lr{}_g{}_t{}_m0.9_{}.csv'.format(n_layers, n_hidden, batch_size, lrate, _gamma, meantime, name))\n",
    "            \n",
    "    return df_test, grads, proc_grads\n",
    "\n"
   ]
  },
  {
   "cell_type": "code",
   "execution_count": 249,
   "metadata": {
    "collapsed": true
   },
   "outputs": [],
   "source": [
    "#exps = {}"
   ]
  },
  {
   "cell_type": "code",
   "execution_count": 250,
   "metadata": {
    "collapsed": false,
    "scrolled": true
   },
   "outputs": [
    {
     "name": "stdout",
     "output_type": "stream",
     "text": [
      "starting exp 1\n",
      "starting exp 2\n"
     ]
    }
   ],
   "source": [
    "name = 'g1000.0'\n",
    "\n",
    "exps[name], grads, proc_grads = run_exps(\n",
    "    num_exps = 2,\n",
    "    tqdm_on=False,\n",
    "    epochs=100,\n",
    "    lrate=0.001,\n",
    "    _gamma=1000.0,\n",
    "    batch_size=128,\n",
    "    control=False,\n",
    "    name=name\n",
    "    )"
   ]
  },
  {
   "cell_type": "code",
   "execution_count": 234,
   "metadata": {
    "collapsed": false
   },
   "outputs": [],
   "source": [
    "del exps['g0.1']\n",
    "del exps['g0.01']\n",
    "del exps['g10.0']\n",
    "del exps['g0.0']"
   ]
  },
  {
   "cell_type": "code",
   "execution_count": 156,
   "metadata": {
    "collapsed": false,
    "deletable": true,
    "editable": true
   },
   "outputs": [],
   "source": [
    "#df_control = df"
   ]
  },
  {
   "cell_type": "code",
   "execution_count": 157,
   "metadata": {
    "collapsed": false
   },
   "outputs": [],
   "source": [
    "#test_list = [df_control, df_control_x3] + [df_xw4, df_xw3, df_xw2, df_xw1, df_xw4_05]"
   ]
  },
  {
   "cell_type": "code",
   "execution_count": 251,
   "metadata": {
    "collapsed": false
   },
   "outputs": [
    {
     "data": {
      "text/plain": [
       "dict_keys(['control', 'g1000.0'])"
      ]
     },
     "execution_count": 251,
     "metadata": {},
     "output_type": "execute_result"
    }
   ],
   "source": [
    "exps.keys()"
   ]
  },
  {
   "cell_type": "code",
   "execution_count": 252,
   "metadata": {
    "collapsed": false,
    "deletable": true,
    "editable": true
   },
   "outputs": [],
   "source": [
    "\n",
    "\n",
    "test_list = [exps[show] for show in exps.keys()]"
   ]
  },
  {
   "cell_type": "code",
   "execution_count": 253,
   "metadata": {
    "collapsed": false
   },
   "outputs": [],
   "source": [
    "df_tot = pd.concat(test_list,axis=0)\n",
    "df_tot = df_tot.reset_index(drop=False).rename(columns={'index':'epoch'})"
   ]
  },
  {
   "cell_type": "code",
   "execution_count": 254,
   "metadata": {
    "collapsed": false
   },
   "outputs": [
    {
     "name": "stderr",
     "output_type": "stream",
     "text": [
      "/home/yaser/miniconda3/envs/dantemp/lib/python3.6/site-packages/seaborn/timeseries.py:183: UserWarning: The tsplot function is deprecated and will be removed or replaced (in a substantially altered version) in a future release.\n",
      "  warnings.warn(msg, UserWarning)\n"
     ]
    },
    {
     "data": {
      "image/png": "[encoded data removed]",
      "text/plain": [
       "<matplotlib.figure.Figure at 0x7f48200770f0>"
      ]
     },
     "metadata": {},
     "output_type": "display_data"
    }
   ],
   "source": [
    "sns.tsplot(time=\"epoch\", value=\"loss_test\",\n",
    "                 unit=\"experiment\", condition=\"name\",\n",
    "                 data=df_tot, ci=[68]\n",
    "          ,estimator=np.median)\n",
    "\n",
    "#plt.ylim(0,400)\n",
    "\n",
    "plt.show()"
   ]
  },
  {
   "cell_type": "code",
   "execution_count": null,
   "metadata": {
    "collapsed": true
   },
   "outputs": [],
   "source": [
    "# exps['test1']['name'] = 'dde'"
   ]
  },
  {
   "cell_type": "code",
   "execution_count": null,
   "metadata": {
    "collapsed": false
   },
   "outputs": [],
   "source": [
    "df_window3['name'] = 'dde1'"
   ]
  },
  {
   "cell_type": "code",
   "execution_count": null,
   "metadata": {
    "collapsed": false
   },
   "outputs": [],
   "source": []
  },
  {
   "cell_type": "code",
   "execution_count": null,
   "metadata": {
    "collapsed": false
   },
   "outputs": [],
   "source": [
    "len(grads[4])"
   ]
  },
  {
   "cell_type": "code",
   "execution_count": null,
   "metadata": {
    "collapsed": false
   },
   "outputs": [],
   "source": [
    "all_grads = [layer for layer in [epoch for epoch in grads]"
   ]
  },
  {
   "cell_type": "code",
   "execution_count": null,
   "metadata": {
    "collapsed": false
   },
   "outputs": [],
   "source": [
    "np.linalg.norm(np.stack(all_grads),axis=2)"
   ]
  },
  {
   "cell_type": "code",
   "execution_count": null,
   "metadata": {
    "collapsed": false
   },
   "outputs": [],
   "source": [
    "choice = 'param'\n",
    "\n",
    "if choice == 'grad':\n",
    "    c = 0\n",
    "else:\n",
    "    c = 1\n",
    "\n",
    "ps = []\n",
    "gs = []\n",
    "pgs = []\n",
    "l = 3\n",
    "fro = 300\n",
    "to = 300\n",
    "\n",
    "fro_rand = np.random.randint(fro)\n",
    "to_rand = np.random.randint(to)\n",
    "\n",
    "for e, pe in zip(grads,proc_grads):\n",
    "    \n",
    "    gs.append(e[l][0][fro_rand][to_rand])\n",
    "    ps.append(e[l][1][fro_rand][to_rand])\n",
    "    pgs.append(pe[l][0][fro_rand][to_rand])\n",
    "\n",
    "gs = np.stack(gs)\n",
    "ps = np.stack(ps)\n",
    "pgs = np.stack(pgs)\n",
    "\n",
    "print(gs.sum())\n",
    "print(ps.sum())\n",
    "print(pgs.sum())\n",
    "\n",
    "plt.plot(range(len(gs)),gs)\n",
    "plt.title('partial derivative - layer {} weight {},{}'.format(l,fro_rand,to_rand))\n",
    "plt.xlabel('epoch')\n",
    "plt.show()\n",
    "\n",
    "plt.plot(range(len(ps)),ps)\n",
    "plt.title('parameter - layer {} weight {},{}'.format(l,fro_rand,to_rand))\n",
    "plt.xlabel('epoch')\n",
    "plt.show()\n",
    "\n",
    "plt.plot(range(len(pgs)),pgs)\n",
    "plt.title('processed partial derivative - layer {} weight {},{}'.format(l,fro_rand,to_rand))\n",
    "plt.xlabel('epoch')\n",
    "plt.show()"
   ]
  },
  {
   "cell_type": "code",
   "execution_count": null,
   "metadata": {
    "collapsed": false
   },
   "outputs": [],
   "source": [
    "\n",
    "sums = []\n",
    "\n",
    "for l in range(len(grads[10])):\n",
    "    \n",
    "    gs = []\n",
    "    \n",
    "    gs.append(np.sum(grads[2][l][0]))\n",
    "    gs = np.stack(gs)\n",
    "    sums.append(gs.sum())\n",
    "\n",
    "sums"
   ]
  },
  {
   "cell_type": "code",
   "execution_count": null,
   "metadata": {
    "collapsed": false
   },
   "outputs": [],
   "source": [
    "gs[-1].shape"
   ]
  },
  {
   "cell_type": "code",
   "execution_count": null,
   "metadata": {
    "collapsed": false
   },
   "outputs": [],
   "source": [
    "grads[15]"
   ]
  },
  {
   "cell_type": "code",
   "execution_count": null,
   "metadata": {
    "collapsed": false
   },
   "outputs": [],
   "source": [
    "grads[10][300][0].shape"
   ]
  },
  {
   "cell_type": "code",
   "execution_count": null,
   "metadata": {
    "collapsed": false
   },
   "outputs": [],
   "source": [
    "len(grads[10])"
   ]
  },
  {
   "cell_type": "code",
   "execution_count": null,
   "metadata": {
    "collapsed": false
   },
   "outputs": [],
   "source": []
  },
  {
   "cell_type": "code",
   "execution_count": null,
   "metadata": {
    "collapsed": true
   },
   "outputs": [],
   "source": []
  }
 ],
 "metadata": {
  "kernelspec": {
   "display_name": "Python [conda env:dantemp]",
   "language": "python",
   "name": "conda-env-dantemp-py"
  },
  "language_info": {
   "codemirror_mode": {
    "name": "ipython",
    "version": 3
   },
   "file_extension": ".py",
   "mimetype": "text/x-python",
   "name": "python",
   "nbconvert_exporter": "python",
   "pygments_lexer": "ipython3",
   "version": "3.6.3"
  }
 },
 "nbformat": 4,
 "nbformat_minor": 2
}

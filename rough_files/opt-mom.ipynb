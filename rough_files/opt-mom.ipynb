{
 "cells": [
  {
   "cell_type": "code",
   "execution_count": 27,
   "metadata": {
    "collapsed": false,
    "deletable": true,
    "editable": true
   },
   "outputs": [],
   "source": [
    "import tensorflow as tf\n",
    "import numpy as np\n",
    "from matplotlib import pyplot as plt\n",
    "import seaborn as sns; sns.set(color_codes=True)\n",
    "from tqdm import tqdm\n",
    "import pandas as pd\n"
   ]
  },
  {
   "cell_type": "code",
   "execution_count": 28,
   "metadata": {
    "collapsed": false,
    "deletable": true,
    "editable": true
   },
   "outputs": [],
   "source": [
    "# settings\n",
    "\n",
    "n_input = 13\n",
    "n_output = 1\n",
    "n_hidden = 20\n",
    "n_layers = 1000\n",
    "\n",
    "ini_mean = 0 \n",
    "ini_stddev = 1/(2*n_hidden)\n",
    "\n",
    "grad_drop = 0.5\n",
    "alpha = 0.9\n",
    "beta = 1.0\n",
    "\n",
    "batch_size = 64"
   ]
  },
  {
   "cell_type": "code",
   "execution_count": null,
   "metadata": {
    "collapsed": true,
    "deletable": true,
    "editable": true
   },
   "outputs": [],
   "source": []
  },
  {
   "cell_type": "code",
   "execution_count": 29,
   "metadata": {
    "collapsed": false,
    "deletable": true,
    "editable": true
   },
   "outputs": [],
   "source": [
    "# the optimizer\n",
    "\n",
    "\n",
    "class GradientProcessor(object):\n",
    "    \"\"\"\n",
    "    grad_shape: shape of gradient; equivalently, shape of parameter matrix\n",
    "    dropout: average percentage of partial derivatives masked from gradient update\n",
    "    alpha: decay for exponential moving average of deltabar\n",
    "    beta: weight of deltabar on gradient update\n",
    "    scale: if False, use absolute value of gradient differences; if True, use proportion of current parameters\n",
    "    \"\"\"\n",
    "    \n",
    "    def __init__(self, grad_shape, dropout, alpha, beta, scale=False):\n",
    "        self.deltabar = tf.zeros(shape=grad_shape,dtype=tf.float32)\n",
    "        self.initial_update = True\n",
    "        self.regular_update = False\n",
    "        self.dropout = dropout\n",
    "        self.alpha = alpha\n",
    "        self.beta = beta\n",
    "        self.scale = scale\n",
    "        self.last_gradient = None\n",
    "        self.last_mask = tf.ones(shape=grad_shape, dtype=tf.float32)\n",
    "        \n",
    "        self.debug = True\n",
    "\n",
    "    def mask(self, gradient):\n",
    "        self.last_mask = tf.floor(tf.random_uniform(shape=gradient.shape,dtype=tf.float32) + 1 - self.dropout)\n",
    "        return tf.multiply(gradient,self.last_mask)\n",
    "        \n",
    "    def _maskinv(self, mask):\n",
    "        return mask * -1 + 1\n",
    "        \n",
    "    def _calc_delta_t(self, gradient, parameters=None):\n",
    "        maskinv = self._maskinv(self.last_mask)\n",
    "        if self.last_gradient is None:\n",
    "            self.last_gradient = gradient\n",
    "        else:\n",
    "            self.regular_update = True\n",
    "            \n",
    "        if self.scale is True:\n",
    "            delta_t = tf.multiply(tf.divide((gradient-self.last_gradient), parameters) ,maskinv) + tf.multiply(self.deltabar, self.last_mask)\n",
    "        else:\n",
    "            delta_t = tf.multiply((gradient-self.last_gradient), maskinv) + tf.multiply(self.deltabar, self.last_mask)\n",
    "        \n",
    "        return delta_t\n",
    "    \n",
    "    def _update_deltabar(self, gradient, parameters=None):\n",
    "        delta_t = self._calc_delta_t(gradient, parameters)\n",
    "        if self.initial_update is True:\n",
    "            self.deltabar = delta_t\n",
    "            if self.regular_update is True:\n",
    "                self.initial_update = False\n",
    "        else:\n",
    "            self.deltabar = (self.alpha)*self.deltabar + (1-self.alpha)*delta_t\n",
    "        #update last gradient for next time\n",
    "        self.last_gradient = gradient   \n",
    "    \n",
    "    def process(self, gradient, parameters=None):\n",
    "        self._update_deltabar(gradient,parameters)\n",
    "        if self.scale is True:\n",
    "            update = gradient + self.beta*tf.multiply(self.deltabar,parameters)\n",
    "        else:\n",
    "            update = gradient + self.beta*self.deltabar\n",
    "        \n",
    "        return self.mask(update)\n",
    "        \n",
    "        \n",
    "def process_gradients(processors, grads_and_vars):\n",
    "    return[(processor.process(gv[0],gv[1]),gv[1]) for processor, gv in zip(processors,grads_and_vars)]  "
   ]
  },
  {
   "cell_type": "code",
   "execution_count": 30,
   "metadata": {
    "collapsed": false,
    "deletable": true,
    "editable": true,
    "scrolled": true
   },
   "outputs": [],
   "source": [
    "# the network\n",
    "\n",
    "\n",
    "hidden_dict = {}\n",
    "\n",
    "num_params = (n_input*n_hidden) + n_hidden + (n_hidden*n_hidden*(n_layers)) + (n_output*n_hidden) + n_output\n",
    "\n",
    "\n",
    "activation = tf.nn.relu\n",
    "\n",
    "def weight_matrix(n_in,n_out):\n",
    "    return tf.Variable(\n",
    "        tf.truncated_normal(shape=(n_in,n_out), mean=ini_mean, stddev=ini_stddev)\n",
    "        ,dtype=tf.float32)\n",
    "\n",
    "def bias_matrix(n_to):\n",
    "    return tf.Variable(tf.zeros(shape=(1,n_to),dtype=tf.float32))\n",
    "           \n",
    "    \n",
    "\n",
    "input_layer = tf.placeholder(shape=(None,n_input),dtype=tf.float32)\n",
    "output_truth = tf.placeholder(shape=(None,n_output),dtype=tf.float32)\n",
    "\n",
    "\n",
    "for n in range(1,n_layers+1):\n",
    "    hidden_dict[n] = {}\n",
    "    if n == 1:\n",
    "        hidden_dict[n]['weights'] = weight_matrix(n_input,n_hidden)\n",
    "        hidden_dict[n]['bias'] = bias_matrix(n_hidden)\n",
    "        hidden_dict[n]['layer'] = activation(tf.matmul(input_layer,hidden_dict[n]['weights']) + hidden_dict[n]['bias'])\n",
    "    else:\n",
    "        hidden_dict[n]['weights'] = weight_matrix(n_hidden,n_hidden)\n",
    "        hidden_dict[n]['bias'] = bias_matrix(n_hidden)\n",
    "        hidden_dict[n]['layer'] = activation(tf.matmul(hidden_dict[n-1]['layer'],hidden_dict[n]['weights']) + hidden_dict[n]['bias'])\n",
    "        \n",
    "\n",
    "output_weights = weight_matrix(n_hidden,n_output)\n",
    "output_bias = bias_matrix(n_output)\n",
    "\n",
    "output_pre = tf.matmul(hidden_dict[n_layers]['layer'],output_weights) + output_bias\n",
    "#output_pred = tf.nn.sigmoid(output_pre)\n",
    "output_pred = output_pre\n",
    "                 \n",
    "loss = tf.reduce_sum(tf.reduce_mean((1/2)*(output_truth - output_pred)**2))\n",
    "#loss = -tf.reduce_sum(tf.reduce_mean(output_truth*tf.log(output_pred)+(1-output_truth)*tf.log(1-output_pred)))\n",
    "    \n",
    "lr = tf.placeholder(shape=(),dtype=tf.float32)\n",
    "#opt = tf.train.GradientDescentOptimizer(learning_rate=lr)\n",
    "#opt = tf.train.AdamOptimizer(learning_rate=lr,beta1=0.9,beta2=0.999,epsilon=1e-08,use_locking=False)\n",
    "opt = tf.train.MomentumOptimizer(learning_rate=lr,momentum=0.9)\n",
    "all_variables = [hidden_dict[n]['weights'] for n in range(1,n_layers+1)] + [output_weights] + [hidden_dict[n]['bias'] for n in range(1,n_layers+1)] + [output_bias]\n",
    "\n",
    "grad_drop_coef = tf.placeholder(shape=(),dtype=tf.float32)\n",
    "alpha_coef = tf.placeholder(shape=(),dtype=tf.float32)\n",
    "beta_coef = tf.placeholder(shape=(),dtype=tf.float32)\n",
    "\n",
    "processors = [GradientProcessor(variable.shape, \n",
    "                   dropout = grad_drop_coef, \n",
    "                   alpha = alpha_coef, \n",
    "                   beta = beta_coef) for variable in all_variables]\n",
    "\n",
    "mini2 = opt.minimize(loss, var_list = all_variables)\n",
    "\n",
    "\n",
    "correct_prediction = tf.equal(output_truth, tf.round(output_pred))\n",
    "acc = tf.reduce_mean(tf.cast(correct_prediction, tf.float32))\n",
    "\n",
    "grads_and_vars = opt.compute_gradients(loss, all_variables)\n",
    "processed_gradients = process_gradients(processors, grads_and_vars)\n",
    "mini = opt.apply_gradients(processed_gradients)\n"
   ]
  },
  {
   "cell_type": "code",
   "execution_count": 31,
   "metadata": {
    "collapsed": false,
    "deletable": true,
    "editable": true
   },
   "outputs": [],
   "source": [
    "def run_training(inputs, outputs, n_epochs, learning_rate, gradient_drop=0.0, alpha=0.9, beta=1.0, tqdm_on=False, batch_size=64):\n",
    "    \n",
    "    inputs_train, inputs_test = inputs\n",
    "    outputs_train, outputs_test = outputs\n",
    "    \n",
    "    if tqdm_on is True: pbar = tqdm(range(n_epochs))\n",
    "    else: pbar = range(n_epochs)\n",
    "    train_losses = []\n",
    "    test_losses = []\n",
    "    with tf.Session() as sess:\n",
    "        init = tf.global_variables_initializer()\n",
    "        sess.run(init)\n",
    "        for _ in pbar:\n",
    "            \n",
    "            batch_idx = np.random.choice(np.arange(len(inputs_train)), size = batch_size)\n",
    "            input_batch = inputs_train[batch_idx]\n",
    "            output_batch = outputs_train[batch_idx]\n",
    "            \n",
    "            \n",
    "            _, grad, _loss, _acc, pred = sess.run([mini, processed_gradients, loss, acc, output_pred], \n",
    "                                                  feed_dict={input_layer: input_batch\n",
    "                                                             , output_truth: output_batch\n",
    "                                                             , grad_drop_coef: gradient_drop\n",
    "                                                             , alpha_coef: alpha\n",
    "                                                             , beta_coef: beta\n",
    "                                                             , lr: learning_rate\n",
    "\n",
    "\n",
    "                                                            })\n",
    "            _test_loss = sess.run([loss], feed_dict={input_layer:inputs_test, output_truth:outputs_test})\n",
    "            \n",
    "            train_losses.append(_loss)\n",
    "            test_losses.append(_test_loss)\n",
    "            \n",
    "            if tqdm_on is True:\n",
    "                pbar.set_description('train: {:2f}, test: {:2f}'.format(_loss,_test_loss))\n",
    "\n",
    "    return train_losses, test_losses"
   ]
  },
  {
   "cell_type": "code",
   "execution_count": 33,
   "metadata": {
    "collapsed": true,
    "deletable": true,
    "editable": true
   },
   "outputs": [],
   "source": [
    "from sklearn.preprocessing import StandardScaler\n",
    "from sklearn import datasets, model_selection\n",
    "from matplotlib import pyplot as plt\n",
    "\n",
    "#data = datasets.load_breast_cancer()\n",
    "data = datasets.load_boston()\n",
    "\n",
    "indata = data.data\n",
    "outdata = data.target.reshape(-1,1)\n",
    "\n",
    "in_scaler = StandardScaler()\n",
    "indata = in_scaler.fit_transform(indata)\n",
    "\n",
    "inputs_train, inputs_test, outputs_train, outputs_test = model_selection.train_test_split(indata, outdata, test_size=0.1)"
   ]
  },
  {
   "cell_type": "code",
   "execution_count": null,
   "metadata": {
    "collapsed": false
   },
   "outputs": [],
   "source": []
  },
  {
   "cell_type": "code",
   "execution_count": 94,
   "metadata": {
    "collapsed": false,
    "deletable": true,
    "editable": true
   },
   "outputs": [],
   "source": [
    "import time\n",
    "\n",
    "def run_exps(grad_drop, num_exps, alpha = 0.9, beta = 1.0, tqdm_on=False, base_epochs=15, lrate=0.1, batch_size=64):\n",
    "    \n",
    "    df_test = None\n",
    "    times = []\n",
    "\n",
    "    for exp in range(1,num_exps+1):\n",
    "        print('starting exp {}'.format(exp))\n",
    "        st = time.time()\n",
    "        losses_train, losses_test = run_training((inputs_train, inputs_test), (outputs_train, outputs_test), n_epochs=int(base_epochs/(1-grad_drop)), learning_rate = lrate, alpha=alpha, beta=beta, gradient_drop=grad_drop, tqdm_on=tqdm_on, batch_size=batch_size)\n",
    "        elapsed = int(time.time()-st)\n",
    "        times.append(elapsed)\n",
    "        \n",
    "        losses = np.concatenate([np.array(losses_train).reshape(-1,1), np.array(losses_test).reshape(-1,1)],axis=1)\n",
    "        df = pd.DataFrame(losses)\n",
    "        \n",
    "        df.columns = ['loss_train','loss_test']\n",
    "        df['experiment'] = exp\n",
    "        df['logloss'] = pd.Series(np.log(losses_train))\n",
    "        df['params'] = (df.reset_index().rename(columns={'index':'params'})['params'] + 1) * num_params * (1-grad_drop)\n",
    "        df['logparams'] = np.log(df['params'])\n",
    "        df['grad_drop'] = grad_drop\n",
    "        df['alpha'] = alpha\n",
    "        df['beta'] = beta\n",
    "        df['depth'] = n_layers\n",
    "        df['width'] = n_hidden\n",
    "\n",
    "        if df_test is None:\n",
    "            df_test = df\n",
    "        else:\n",
    "            df_test = pd.concat([df_test,df],axis=0)\n",
    "            \n",
    "\n",
    "    meantime = int(np.array(times).mean())\n",
    "    df_test.reset_index().rename(columns={'index':'epoch'})\n",
    "    df_test.to_csv('d{}_a{}_b{}_l{}_h{}_t{}_mom_batch.csv'.format(grad_drop, alpha, beta, n_layers, n_hidden, meantime))\n",
    "            \n",
    "    return df_test\n",
    "\n"
   ]
  },
  {
   "cell_type": "code",
   "execution_count": 35,
   "metadata": {
    "collapsed": false,
    "deletable": true,
    "editable": true,
    "scrolled": true
   },
   "outputs": [
    {
     "name": "stdout",
     "output_type": "stream",
     "text": [
      "starting exp 1\n",
      "starting exp 2\n",
      "starting exp 3\n"
     ]
    }
   ],
   "source": [
    "df_control = run_exps(num_exps = 3, \n",
    "                   grad_drop = 0.0, \n",
    "                   alpha = 0.0, \n",
    "                   beta = 0.0, \n",
    "                   tqdm_on=False,\n",
    "                     base_epochs=100,\n",
    "                     lrate=0.01)"
   ]
  },
  {
   "cell_type": "markdown",
   "metadata": {
    "deletable": true,
    "editable": true
   },
   "source": [
    "just dropout experiments"
   ]
  },
  {
   "cell_type": "code",
   "execution_count": 41,
   "metadata": {
    "collapsed": false,
    "deletable": true,
    "editable": true
   },
   "outputs": [
    {
     "name": "stdout",
     "output_type": "stream",
     "text": [
      "starting exp 1\n",
      "starting exp 2\n",
      "starting exp 3\n",
      "starting exp 1\n",
      "starting exp 2\n",
      "starting exp 3\n",
      "starting exp 1\n",
      "starting exp 2\n",
      "starting exp 3\n",
      "starting exp 1\n",
      "starting exp 2\n",
      "starting exp 3\n"
     ]
    }
   ],
   "source": [
    "exps = {}\n",
    "\n",
    "for d in [0.1, 0.5, 0.9, 0.95]:\n",
    "    for a in [0.0]:\n",
    "        for b in [0.0]:\n",
    "            exps['d{}_a{}_b{}'.format(d,a,b)] = run_exps(num_exps = 3, \n",
    "                           grad_drop = d, \n",
    "                           alpha = 0.0, \n",
    "                           beta = 0.0, \n",
    "                           tqdm_on=False,\n",
    "                             base_epochs=100,\n",
    "                             lrate=0.01)"
   ]
  },
  {
   "cell_type": "markdown",
   "metadata": {},
   "source": [
    "additive "
   ]
  },
  {
   "cell_type": "code",
   "execution_count": null,
   "metadata": {
    "collapsed": false
   },
   "outputs": [],
   "source": []
  },
  {
   "cell_type": "code",
   "execution_count": 95,
   "metadata": {
    "collapsed": false,
    "deletable": true,
    "editable": true
   },
   "outputs": [
    {
     "name": "stdout",
     "output_type": "stream",
     "text": [
      "starting exp 1\n",
      "starting exp 2\n",
      "starting exp 3\n",
      "starting exp 1\n",
      "starting exp 2\n",
      "starting exp 3\n",
      "starting exp 1\n",
      "starting exp 2\n",
      "starting exp 3\n",
      "starting exp 1\n",
      "starting exp 2\n",
      "starting exp 3\n",
      "starting exp 1\n",
      "starting exp 2\n",
      "starting exp 3\n",
      "starting exp 1\n",
      "starting exp 2\n",
      "starting exp 3\n",
      "starting exp 1\n",
      "starting exp 2\n",
      "starting exp 3\n",
      "starting exp 1\n",
      "starting exp 2\n",
      "starting exp 3\n",
      "starting exp 1\n",
      "starting exp 2\n",
      "starting exp 3\n",
      "starting exp 1\n",
      "starting exp 2\n",
      "starting exp 3\n"
     ]
    }
   ],
   "source": [
    "for d in [0.1]:\n",
    "    for a in [0.01, 0.1, 0.5, 0.9, 0.95]:\n",
    "        for b in [1.0, 10.0]:\n",
    "            exps['d{}_a{}_b{}'.format(d,a,b)] = run_exps(num_exps = 3, \n",
    "                           grad_drop = d, \n",
    "                           alpha = a, \n",
    "                           beta = b, \n",
    "                           tqdm_on=False,\n",
    "                             base_epochs=50,\n",
    "                             lrate=0.01,\n",
    "                            batch_size = len(inputs_train))"
   ]
  },
  {
   "cell_type": "code",
   "execution_count": 110,
   "metadata": {
    "collapsed": false,
    "deletable": true,
    "editable": true
   },
   "outputs": [
    {
     "data": {
      "text/plain": [
       "['d0.1_a0.0_b0.0',\n",
       " 'd0.1_a0.01_b1.0',\n",
       " 'd0.1_a0.01_b10.0',\n",
       " 'd0.1_a0.1_b1.0',\n",
       " 'd0.1_a0.1_b10.0',\n",
       " 'd0.1_a0.5_b1.0',\n",
       " 'd0.1_a0.5_b10.0',\n",
       " 'd0.1_a0.9_b1.0',\n",
       " 'd0.1_a0.9_b10.0',\n",
       " 'd0.1_a0.95_b1.0',\n",
       " 'd0.1_a0.95_b10.0']"
      ]
     },
     "execution_count": 110,
     "metadata": {},
     "output_type": "execute_result"
    }
   ],
   "source": [
    "[exp for exp in exps \n",
    "                            #if 'a0.01' in str(exp) \n",
    "                            #and \n",
    "                            if 'd0.1' in str(exp)\n",
    "                           ]"
   ]
  },
  {
   "cell_type": "code",
   "execution_count": 9,
   "metadata": {
    "collapsed": false,
    "deletable": true,
    "editable": true
   },
   "outputs": [],
   "source": []
  },
  {
   "cell_type": "code",
   "execution_count": 116,
   "metadata": {
    "collapsed": false,
    "deletable": true,
    "editable": true
   },
   "outputs": [],
   "source": [
    "test_list = [df_control] + [exps[exp] for exp in exps \n",
    "                            #if 'a0.01' in str(exp) \n",
    "                            #and \n",
    "                            if 'd0.1' in str(exp)\n",
    "                            #and 'batch' in str(exp)\n",
    "                            and 'a0.01' in exp\n",
    "                           ]"
   ]
  },
  {
   "cell_type": "code",
   "execution_count": 117,
   "metadata": {
    "collapsed": false,
    "deletable": true,
    "editable": true
   },
   "outputs": [],
   "source": [
    "df_tot = pd.concat(test_list,axis=0)\n",
    "df_tot = df_tot.reset_index(drop=False).rename(columns={'index':'epoch'})\n",
    "\n",
    "def concat_tags(df):\n",
    "    return df['grad_drop'].astype(str) + '-' + df['alpha'].astype(str) + '-' + df['beta'].astype(str)  \n",
    "\n",
    "df_tot['drop-alpha-beta'] = df_tot.apply(concat_tags,axis=1)"
   ]
  },
  {
   "cell_type": "code",
   "execution_count": 118,
   "metadata": {
    "collapsed": false,
    "deletable": true,
    "editable": true
   },
   "outputs": [
    {
     "name": "stderr",
     "output_type": "stream",
     "text": [
      "/home/yaser/miniconda3/envs/dantemp/lib/python3.6/site-packages/seaborn/timeseries.py:183: UserWarning: The tsplot function is deprecated and will be removed or replaced (in a substantially altered version) in a future release.\n",
      "  warnings.warn(msg, UserWarning)\n"
     ]
    },
    {
     "data": {
      "image/png": "[encoded data removed]",
      "text/plain": [
       "<matplotlib.figure.Figure at 0x7f986e801320>"
      ]
     },
     "metadata": {},
     "output_type": "display_data"
    }
   ],
   "source": [
    "sns.tsplot(time=\"epoch\", value=\"loss_test\",\n",
    "                 unit=\"experiment\", condition=\"drop-alpha-beta\",\n",
    "                 data=df_tot, ci=[68])\n",
    "           \n",
    "plt.xlim(0,25.0)\n",
    "plt.show()"
   ]
  },
  {
   "cell_type": "code",
   "execution_count": null,
   "metadata": {
    "collapsed": false,
    "deletable": true,
    "editable": true
   },
   "outputs": [],
   "source": []
  },
  {
   "cell_type": "markdown",
   "metadata": {
    "deletable": true,
    "editable": true
   },
   "source": [
    "Now for experimenting with low dropouts and very low alphas"
   ]
  },
  {
   "cell_type": "code",
   "execution_count": null,
   "metadata": {
    "collapsed": false,
    "deletable": true,
    "editable": true
   },
   "outputs": [],
   "source": []
  },
  {
   "cell_type": "code",
   "execution_count": null,
   "metadata": {
    "collapsed": false,
    "deletable": true,
    "editable": true
   },
   "outputs": [],
   "source": []
  },
  {
   "cell_type": "code",
   "execution_count": null,
   "metadata": {
    "collapsed": true,
    "deletable": true,
    "editable": true
   },
   "outputs": [],
   "source": []
  },
  {
   "cell_type": "code",
   "execution_count": null,
   "metadata": {
    "collapsed": true,
    "deletable": true,
    "editable": true
   },
   "outputs": [],
   "source": []
  },
  {
   "cell_type": "code",
   "execution_count": 184,
   "metadata": {
    "collapsed": false,
    "deletable": true,
    "editable": true
   },
   "outputs": [
    {
     "data": {
      "image/png": "[encoded data removed]",
      "text/plain": [
       "<matplotlib.figure.Figure at 0x1aa10fea58>"
      ]
     },
     "metadata": {},
     "output_type": "display_data"
    }
   ],
   "source": [
    "sns.tsplot(time=\"epoch\", value=\"loss\",\n",
    "                 unit=\"experiment\", condition=\"drop-alpha-beta\",\n",
    "                 data=df_tot, ci=[68])\n",
    "           \n",
    "plt.show()"
   ]
  },
  {
   "cell_type": "code",
   "execution_count": 178,
   "metadata": {
    "collapsed": false,
    "deletable": true,
    "editable": true
   },
   "outputs": [],
   "source": [
    "\n",
    "df_tot.to_csv('ada-SGD-multiexp-alpha-beta-drop_2.csv')"
   ]
  },
  {
   "cell_type": "markdown",
   "metadata": {
    "deletable": true,
    "editable": true
   },
   "source": [
    "Now try the same things with Adam and with a bigger network"
   ]
  },
  {
   "cell_type": "code",
   "execution_count": null,
   "metadata": {
    "collapsed": false,
    "deletable": true,
    "editable": true
   },
   "outputs": [],
   "source": []
  },
  {
   "cell_type": "code",
   "execution_count": 11,
   "metadata": {
    "collapsed": false,
    "deletable": true,
    "editable": true
   },
   "outputs": [],
   "source": [
    "test_list = [\n",
    "    df_control, #0-0-0\n",
    "    \n",
    "    \n",
    "    \n",
    "    \n",
    "    \n",
    "    \n",
    "    \n",
    "#    df_test000, #0.5-0.0-1.0\n",
    "#    df_test4, #0.5-0.1-1.0\n",
    "    \n",
    "    df_test111, #0.25-0.1-1.0\n",
    "#    df_test112, #0.1-0.1-1.0\n",
    "    df_test113, #0.05-0.1-1.0\n",
    "#    df_test114, #0.1-0.1-1.0 \n",
    "    df_test115, #0.1-0.01-1.0\n",
    "    df_test116, #0.1-0.001-1.0 \n",
    "]"
   ]
  },
  {
   "cell_type": "code",
   "execution_count": 13,
   "metadata": {
    "collapsed": true,
    "deletable": true,
    "editable": true
   },
   "outputs": [],
   "source": [
    "df_tot = pd.concat(test_list,axis=0)\n",
    "df_tot = df_tot.reset_index(drop=False).rename(columns={'index':'epoch'})\n",
    "\n",
    "def concat_tags(df):\n",
    "    return df['grad_drop'].astype(str) + '-' + df['alpha'].astype(str) + '-' + df['beta'].astype(str)  \n",
    "\n",
    "df_tot['drop-alpha-beta'] = df_tot.apply(concat_tags,axis=1)"
   ]
  },
  {
   "cell_type": "code",
   "execution_count": 14,
   "metadata": {
    "collapsed": false,
    "deletable": true,
    "editable": true
   },
   "outputs": [
    {
     "data": {
      "image/png": "[encoded data removed]",
      "text/plain": [
       "<matplotlib.figure.Figure at 0x1a6d0ce9e8>"
      ]
     },
     "metadata": {},
     "output_type": "display_data"
    }
   ],
   "source": [
    "sns.tsplot(time=\"epoch\", value=\"loss\",\n",
    "                 unit=\"experiment\", condition=\"drop-alpha-beta\",\n",
    "                 data=df_tot, ci=[68])\n",
    "           \n",
    "plt.show()"
   ]
  },
  {
   "cell_type": "code",
   "execution_count": 15,
   "metadata": {
    "collapsed": false,
    "deletable": true,
    "editable": true
   },
   "outputs": [
    {
     "name": "stdout",
     "output_type": "stream",
     "text": [
      "starting exp 1\n"
     ]
    }
   ],
   "source": [
    "df_test000 = run_exps(num_exps = 1, \n",
    "                   grad_drop = 0.0, \n",
    "                   alpha = 0.00, \n",
    "                   beta = 0.0, \n",
    "                   \n",
    "                   tqdm_on=False)"
   ]
  },
  {
   "cell_type": "code",
   "execution_count": null,
   "metadata": {
    "collapsed": false,
    "deletable": true,
    "editable": true
   },
   "outputs": [],
   "source": [
    "df_control.to_csv('control.csv')"
   ]
  },
  {
   "cell_type": "code",
   "execution_count": null,
   "metadata": {
    "collapsed": true,
    "deletable": true,
    "editable": true
   },
   "outputs": [],
   "source": []
  }
 ],
 "metadata": {
  "anaconda-cloud": {},
  "kernelspec": {
   "display_name": "Python [conda env:dantemp]",
   "language": "python",
   "name": "conda-env-dantemp-py"
  },
  "language_info": {
   "codemirror_mode": {
    "name": "ipython",
    "version": 3
   },
   "file_extension": ".py",
   "mimetype": "text/x-python",
   "name": "python",
   "nbconvert_exporter": "python",
   "pygments_lexer": "ipython3",
   "version": "3.6.3"
  }
 },
 "nbformat": 4,
 "nbformat_minor": 1
}
